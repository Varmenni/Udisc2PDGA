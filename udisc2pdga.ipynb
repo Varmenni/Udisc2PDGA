{
 "cells": [
  {
   "cell_type": "markdown",
   "metadata": {},
   "source": [
    "# Excel to TSV Converter\n",
    "Upload an `.xlsx` file, and this notebook will extract a specific sheet and convert it to a **tab-separated** format (TSV)."
   ]
  },
  {
   "cell_type": "code",
   "execution_count": 55,
   "metadata": {},
   "outputs": [],
   "source": [
    "import pandas as pd\n",
    "from io import StringIO\n",
    "from IPython.display import display, HTML\n",
    "import ipywidgets as widgets"
   ]
  },
  {
   "cell_type": "code",
   "execution_count": 56,
   "metadata": {},
   "outputs": [
    {
     "name": "stdout",
     "output_type": "stream",
     "text": [
      "BOB\n"
     ]
    },
    {
     "data": {
      "application/vnd.jupyter.widget-view+json": {
       "model_id": "63ac9c8077b5426995dc74d353a1ca06",
       "version_major": 2,
       "version_minor": 0
      },
      "text/plain": [
       "FileUpload(value=(), accept='.xlsx', description='Upload')"
      ]
     },
     "metadata": {},
     "output_type": "display_data"
    },
    {
     "data": {
      "text/html": [
       "<pre>firstname\tlastname\tpdga_number\tdivision\r\n",
       "Guðmundur\tMelberg\t275250\tPULSUR\r\n",
       "Siggi\tSidearm\t\tPULSUR\r\n",
       "Raggi\tRocket\t290040\tPULSUR\r\n",
       "Hörður\tMár Gestsson\t272248\tPULSUR\r\n",
       "Freysi\tFallbyssa\t\tPULSUR\r\n",
       "Krissi\tSkipper\t\tPULSUR\r\n",
       "Höddi\tJr.\t\tPULSUR\r\n",
       "Arnar\tForhönd\t\tPULSUR\r\n",
       "Finnbogi\tEinarsson\t\tPULSUR\r\n",
       "Þórhallur\tÓlafsson\t\tPULSUR\r\n",
       "</pre>"
      ],
      "text/plain": [
       "<IPython.core.display.HTML object>"
      ]
     },
     "metadata": {},
     "output_type": "display_data"
    },
    {
     "data": {
      "text/html": [
       "<pre>firstname\tlastname\tpdga_number\tdivision\r\n",
       "Pedro\tLuis Carvalho\t99417\tMPO\r\n",
       "Ellert\tGeorgsson✅\t152023\tMPO\r\n",
       "Ólafur\tÞorbergsson ✅\t167337\tMPO\r\n",
       "Snorri\tBirgisson✅\t150680\tMPO\r\n",
       "Smári\tKristinsson✅\t139316\tMPO\r\n",
       "Árni\tÁsbjarnarson ✅\t145738\tMPO\r\n",
       "Alexander\tIngi Arnarsson ✅\t229081\tMPO\r\n",
       "Daníel\tHelgi Einarsson✅\t150163\tMPO\r\n",
       "Birgir\tÍvarsson✅\t169614\tMPO\r\n",
       "Elías\tPétur Steindórsson✅\t261824\tMPO\r\n",
       "Ágúst\tÁsmundsson✅\t182052\tMPO\r\n",
       "María\tEldey Kristínardóttir ✅\t140660\tMPO\r\n",
       "Rúnar\tÁrnason✅\t94783\tMPO\r\n",
       "Bjarmi\tHreinsson✅\t150806\tMPO\r\n",
       "Kristófer\tBreki✅\t137073\tMPO\r\n",
       "Sigurður\tKári Árnason ✅\t250518\tMPO\r\n",
       "Valdimar\tErlendsson ✅\t293118\tMPO\r\n",
       "Aron\tGylfason ✅\t128004\tMPO\r\n",
       "Einar\tPáll Einarsson ✅\t143923\tMPO\r\n",
       "Heiðar\tMár Hildarson ✅️\t181653\tMPO\r\n",
       "Úlfur\tIngólfsson✅\t306539\tMPO\r\n",
       "Magnús\tFreyr✅\t227331\tMPO\r\n",
       "Einar\tPáll Þórðarson✅\t272026\tMA1\r\n",
       "Aron\tUnnarsson ✅\t\tMA1\r\n",
       "Eyvindur\tPáll Ólafsson✅\t125669\tMA1\r\n",
       "Atli\tEgilsson✅\t255403\tMA1\r\n",
       "Ragnar\tLárus Sigurðsson✅\t139485\tMA1\r\n",
       "Elías\tRúnar Valgeirsson✅\t286018\tMA2\r\n",
       "Arnór\tFreyr Ingunnarson✅\t290771\tMA2\r\n",
       "Markús\tIngi Hauksson ✅\t268624\tMA2\r\n",
       "Friðrik\tSnær ✅\t74074\tMP40\r\n",
       "Auðunn\tElvar Auðunsson ✅\t258219\tMP40\r\n",
       "Pétur\tGunnarsson ✅\t76628\tMP40\r\n",
       "Haukur\tBragason✅\t128000\tMP40\r\n",
       "Guðjón\tEinarsson ✅\t140690\tMP40\r\n",
       "Dagur\tAmmendrup ✅\t73609\tMP40\r\n",
       "Guðmundur\tMelberg✅\t275250\tMP40\r\n",
       "Árni\tPáll Jónsson ✅\t180054\tMP50\r\n",
       "</pre>"
      ],
      "text/plain": [
       "<IPython.core.display.HTML object>"
      ]
     },
     "metadata": {},
     "output_type": "display_data"
    }
   ],
   "source": [
    "# Upload widget\n",
    "print(\"BOB\")\n",
    "upload = widgets.FileUpload(accept='.xlsx', multiple=False)\n",
    "display(upload)"
   ]
  },
  {
   "cell_type": "code",
   "execution_count": null,
   "metadata": {},
   "outputs": [],
   "source": [
    "def handle_upload(change):\n",
    "    if upload.value:\n",
    "        uploaded_file = upload.value[0]\n",
    "        content = uploaded_file['content']\n",
    "        filename = uploaded_file.get('name', 'uploaded.xlsx')  # fallback filename\n",
    "\n",
    "        # Load the Excel file\n",
    "        import io\n",
    "        xls = pd.ExcelFile(io.BytesIO(content))\n",
    "\n",
    "        print(f\"Uploaded: {filename}\")\n",
    "        print(\"Sheets found:\", xls.sheet_names)\n",
    "\n",
    "        # Choose the first sheet\n",
    "        df = xls.parse(xls.sheet_names[0],dtype={'pdga_number': str})\n",
    "        # Keep only relevant columns\n",
    "        df = df[['division', 'name', 'pdga_number']].copy()\n",
    "\n",
    "        # Remove emoji/symbols like ✅ and strip extra whitespace\n",
    "        df['name'] = df['name'].str.replace('✅', '', regex=False).str.strip()\n",
    "\n",
    "        # Split so that the last word is the last name, the rest is first name\n",
    "        df[['firstname', 'lastname']] = df['name'].str.extract(r'^(.*?)\\s+(\\S+)$')\n",
    "\n",
    "        # Drop original name column\n",
    "        df = df.drop(columns=['name'])\n",
    "\n",
    "        # Reorder columns if needed\n",
    "        df = df[['firstname', 'lastname', 'pdga_number', 'division']]\n",
    "\n",
    "        # Convert to TSV\n",
    "        tsv = df.to_csv(sep='\\t', index=False)\n",
    "        print(\"\\nTSV Output (first 500 characters):\\n\")\n",
    "        display(HTML(f\"<pre>{tsv}</pre>\"))\n",
    "\n"
   ]
  },
  {
   "cell_type": "code",
   "execution_count": 58,
   "metadata": {},
   "outputs": [],
   "source": [
    "upload.observe(handle_upload, names='value')"
   ]
  }
 ],
 "metadata": {
  "kernelspec": {
   "display_name": ".venv",
   "language": "python",
   "name": "python3"
  },
  "language_info": {
   "codemirror_mode": {
    "name": "ipython",
    "version": 3
   },
   "file_extension": ".py",
   "mimetype": "text/x-python",
   "name": "python",
   "nbconvert_exporter": "python",
   "pygments_lexer": "ipython3",
   "version": "3.10.11"
  }
 },
 "nbformat": 4,
 "nbformat_minor": 2
}
