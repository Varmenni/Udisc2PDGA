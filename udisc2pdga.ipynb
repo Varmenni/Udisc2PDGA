{
 "cells": [
  {
   "cell_type": "markdown",
   "metadata": {},
   "source": [
    "# Excel to TSV Converter\n",
    "Upload an `.xlsx` file, and this notebook will extract a specific sheet and convert it to a **tab-separated** format (TSV)."
   ]
  },
  {
   "cell_type": "code",
   "execution_count": null,
   "metadata": {},
   "outputs": [],
   "source": [
    "import pandas as pd\n",
    "from io import StringIO\n",
    "from IPython.display import display, FileLink\n",
    "import ipywidgets as widgets"
   ]
  },
  {
   "cell_type": "code",
   "execution_count": null,
   "metadata": {},
   "outputs": [],
   "source": [
    "# Upload widget\n",
    "upload = widgets.FileUpload(accept='.xlsx', multiple=False)\n",
    "display(upload)"
   ]
  },
  {
   "cell_type": "code",
   "execution_count": null,
   "metadata": {},
   "outputs": [],
   "source": [
    "def handle_upload(change):\n",
    "    if upload.value:\n",
    "        # Extract file content\n",
    "        file_info = list(upload.value.values())[0]\n",
    "        content = file_info['content']\n",
    "\n",
    "        # Read Excel into DataFrame\n",
    "        df = pd.read_excel(content, sheet_name=0)  # Change sheet_name if needed\n",
    "\n",
    "        # Convert to TSV\n",
    "        tsv_data = df.to_csv(sep='\\t', index=False)\n",
    "\n",
    "        # Write to downloadable file\n",
    "        with open(\"output.tsv\", \"w\", encoding=\"utf-8\") as f:\n",
    "            f.write(tsv_data)\n",
    "\n",
    "        print(\"Preview:\")\n",
    "        print(tsv_data[:300] + \"\\n...\")  # Show first 300 characters\n",
    "\n",
    "        display(FileLink(\"output.tsv\"))"
   ]
  },
  {
   "cell_type": "code",
   "execution_count": null,
   "metadata": {},
   "outputs": [],
   "source": [
    "upload.observe(handle_upload, names='value')"
   ]
  }
 ],
 "metadata": {
  "kernelspec": {
   "display_name": "Python 3",
   "language": "python",
   "name": "python3"
  },
  "language_info": {
   "name": "python",
   "version": "3.x"
  }
 },
 "nbformat": 4,
 "nbformat_minor": 2
}